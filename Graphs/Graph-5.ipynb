{
 "cells": [
  {
   "cell_type": "code",
   "execution_count": 97,
   "id": "fa81176c",
   "metadata": {},
   "outputs": [],
   "source": [
    "#Looping graph \n",
    "\n",
    "from typing import TypedDict, List, Dict\n",
    "from langgraph.graph import StateGraph,START,END\n",
    "import random"
   ]
  },
  {
   "cell_type": "code",
   "execution_count": 98,
   "id": "68eba5be",
   "metadata": {},
   "outputs": [],
   "source": [
    "class AgentState(TypedDict):\n",
    "    name : str\n",
    "    number : list[int]\n",
    "    counter : int"
   ]
  },
  {
   "cell_type": "code",
   "execution_count": 99,
   "id": "ba344f32",
   "metadata": {},
   "outputs": [],
   "source": [
    "def greeting_node(state: AgentState)->AgentState:\n",
    "    \"\"\"Greeting node which says hi\"\"\"\n",
    "    state['name'] = f\"Hello there, {state['name']}\"\n",
    "    state['counter'] = 0\n",
    "    state['number'] = []\n",
    "    return state\n",
    "\n",
    "def random_node(state: AgentState)->AgentState:\n",
    "    \"\"\"This is used to generate a number from 0 to 10\"\"\" \n",
    "    state['number'].append(random.randint(0,10))\n",
    "    state['counter'] +=1\n",
    "    return state\n",
    "\n",
    "def should_continue(state: AgentState)->AgentState:\n",
    "    \"\"\"This is the function used to create and continue the loop\"\"\" \n",
    "    if state['counter'] < 5:\n",
    "        print(\"Entering the Loop\",state['counter'])\n",
    "        return \"loop_edge\"  #We are returning the edge\n",
    "    else:\n",
    "        return \"exit_edge\" #We are returning the edge  \n"
   ]
  },
  {
   "cell_type": "code",
   "execution_count": 100,
   "id": "3b52be80",
   "metadata": {},
   "outputs": [],
   "source": [
    "graph=StateGraph(AgentState)\n",
    "graph.add_node(\"greeting\",greeting_node)\n",
    "graph.add_node(\"random\",random_node)\n",
    "\n",
    "graph.add_edge(START,\"greeting\")\n",
    "\n",
    "graph.add_edge(\"greeting\",\"random\")\n",
    "\n",
    "graph.add_conditional_edges(\n",
    "    \"random\",\n",
    "    should_continue,\n",
    "    {\n",
    "        \"loop_edge\":\"random\",\n",
    "        \"exit_edge\":END\n",
    "    }\n",
    ")\n",
    "\n",
    "app=graph.compile()\n",
    "\n",
    "\n"
   ]
  },
  {
   "cell_type": "code",
   "execution_count": 101,
   "id": "59de3a75",
   "metadata": {},
   "outputs": [
    {
     "data": {
      "image/png": "[encoded data removed]",
      "text/plain": [
       "<IPython.core.display.Image object>"
      ]
     },
     "metadata": {},
     "output_type": "display_data"
    }
   ],
   "source": [
    "from IPython.display import Image,display\n",
    "display(Image(app.get_graph().draw_mermaid_png()))"
   ]
  },
  {
   "cell_type": "code",
   "execution_count": 102,
   "id": "14e11075",
   "metadata": {},
   "outputs": [
    {
     "name": "stdout",
     "output_type": "stream",
     "text": [
      "Entering the Loop 1\n",
      "Entering the Loop 2\n",
      "Entering the Loop 3\n",
      "Entering the Loop 4\n",
      "{'name': 'Hello there, Rohan', 'number': [2, 5, 5, 2, 7], 'counter': 5}\n"
     ]
    }
   ],
   "source": [
    "result = app.invoke({'name':\"Rohan\"})\n",
    "print(result)"
   ]
  },
  {
   "cell_type": "markdown",
   "id": "75da3709",
   "metadata": {},
   "source": [
    "Exercise-5:\n",
    "Your task:\n",
    "\n",
    "Make the graph on the right! You need to implement an Automatic Higher or Lower Game.\n",
    "\n",
    "Set the bounds to between 1 to 20. The Graph has to keep guessing (max number of guesses is 7) where if the guess is correct, then it stops, but if not we keep looping until we hit the max limit of 7.\n",
    "\n",
    "Each time a number is guessed, the hint node should say higher or lower and the graph should account for this information and guess the next guess accordingly.\n",
    "\n",
    "{\"player_name\": \"Student\", \"guesses\": [], \"attempts\": 0, \"lower_bound\": 1, \"upper_bound\": 20}\n"
   ]
  },
  {
   "cell_type": "code",
   "execution_count": 103,
   "id": "1a5206c5",
   "metadata": {},
   "outputs": [],
   "source": [
    "class AgentGameState(TypedDict):\n",
    "    player_name: str\n",
    "    guesses: list[int]\n",
    "    guess_input: int \n",
    "    attempts: int\n",
    "    random_number: int"
   ]
  },
  {
   "cell_type": "code",
   "execution_count": 104,
   "id": "2263b6ee",
   "metadata": {},
   "outputs": [],
   "source": [
    "def setup(state:AgentGameState)->AgentGameState:\n",
    "    state['guesses'] = []\n",
    "    state['guess_input'] = 0\n",
    "    state['attempts'] = 0\n",
    "    state['random_number'] = random.randint(0,20)\n",
    "    return state\n",
    "\n",
    "def guess(state: AgentGameState) -> AgentGameState:\n",
    "    print(f\"\\nHello {state['player_name']}, this is guess number {state['attempts'] + 1}\")\n",
    "    \n",
    "    state['guess_input'] = int(input(\"Enter your guess (0-20): \"))\n",
    "\n",
    "    state['guesses'].append(state['guess_input'])\n",
    "    state['attempts'] += 1\n",
    "\n",
    "    if state['guess_input'] > state['random_number']:\n",
    "        print(\"Too high! Try guessing lower.\")\n",
    "    elif state['guess_input'] < state['random_number']:\n",
    "        print(\"Too low! Try guessing higher.\")\n",
    "    else:\n",
    "        print(f\"Congratulations {state['player_name']}! You guessed the number in {state['attempts']} attempts.\")\n",
    "\n",
    "    return state\n",
    "\n",
    "def evaluate_guess(state: AgentGameState) -> str:\n",
    "    if state['guess_input'] == state['random_number']:\n",
    "        return \"exit_edge\"\n",
    "    elif state['attempts'] >= 7:\n",
    "        print(f\"Sorry {state['player_name']}, you've run out of attempts. The number was {state['random_number']}.\")\n",
    "        return \"exit_edge\"\n",
    "    else:\n",
    "        return \"loop_edge\""
   ]
  },
  {
   "cell_type": "code",
   "execution_count": 105,
   "id": "db293db6",
   "metadata": {},
   "outputs": [],
   "source": [
    "graph=StateGraph(AgentGameState)\n",
    "graph.add_node(\"setup_node\",setup)\n",
    "graph.add_node(\"guess_node\",guess)\n",
    "graph.add_edge(START,\"setup_node\")\n",
    "graph.add_edge(\"setup_node\",'guess_node')\n",
    "\n",
    "graph.add_conditional_edges(\n",
    "    \"guess_node\",\n",
    "    evaluate_guess,\n",
    "    {\n",
    "        \"loop_edge\":\"guess_node\",\n",
    "        \"exit_edge\":END\n",
    "    }\n",
    ")\n",
    "\n",
    "app=graph.compile()\n",
    "\n"
   ]
  },
  {
   "cell_type": "code",
   "execution_count": 106,
   "id": "b21bf70f",
   "metadata": {},
   "outputs": [
    {
     "data": {
      "image/png": "[encoded data removed]",
      "text/plain": [
       "<IPython.core.display.Image object>"
      ]
     },
     "metadata": {},
     "output_type": "display_data"
    }
   ],
   "source": [
    "from IPython.display import Image,display\n",
    "display(Image(app.get_graph().draw_mermaid_png()))"
   ]
  },
  {
   "cell_type": "code",
   "execution_count": 107,
   "id": "72a93560",
   "metadata": {},
   "outputs": [
    {
     "name": "stdout",
     "output_type": "stream",
     "text": [
      "\n",
      "Hello rohan, this is guess number 1\n",
      "Too low! Try guessing higher.\n",
      "\n",
      "Hello rohan, this is guess number 2\n",
      "Too low! Try guessing higher.\n",
      "\n",
      "Hello rohan, this is guess number 3\n",
      "Too low! Try guessing higher.\n",
      "\n",
      "Hello rohan, this is guess number 4\n",
      "Too low! Try guessing higher.\n",
      "\n",
      "Hello rohan, this is guess number 5\n",
      "Too low! Try guessing higher.\n",
      "\n",
      "Hello rohan, this is guess number 6\n",
      "Too low! Try guessing higher.\n",
      "\n",
      "Hello rohan, this is guess number 7\n",
      "Too low! Try guessing higher.\n",
      "Sorry rohan, you've run out of attempts. The number was 16.\n",
      "{'player_name': 'rohan', 'guesses': [2, 3, 4, 5, 6, 7, 8], 'guess_input': 8, 'attempts': 7, 'random_number': 16}\n"
     ]
    }
   ],
   "source": [
    "result=app.invoke({'player_name':\"rohan\"})\n",
    "print(result)"
   ]
  },
  {
   "cell_type": "code",
   "execution_count": null,
   "id": "dce080b9",
   "metadata": {},
   "outputs": [],
   "source": []
  },
  {
   "cell_type": "code",
   "execution_count": null,
   "id": "8f25b04a",
   "metadata": {},
   "outputs": [],
   "source": []
  }
 ],
 "metadata": {
  "kernelspec": {
   "display_name": "base",
   "language": "python",
   "name": "python3"
  },
  "language_info": {
   "codemirror_mode": {
    "name": "ipython",
    "version": 3
   },
   "file_extension": ".py",
   "mimetype": "text/x-python",
   "name": "python",
   "nbconvert_exporter": "python",
   "pygments_lexer": "ipython3",
   "version": "3.12.4"
  }
 },
 "nbformat": 4,
 "nbformat_minor": 5
}
