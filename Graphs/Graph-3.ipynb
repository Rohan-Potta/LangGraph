{
 "cells": [
  {
   "cell_type": "code",
   "execution_count": 1,
   "id": "cd98a10e",
   "metadata": {},
   "outputs": [],
   "source": [
    "#Sequential Graph\n",
    "#Here we will create multiple Nodes to sequentially process and update different parts of the state graph \n",
    "from typing import TypedDict\n",
    "from langgraph.graph import StateGraph"
   ]
  },
  {
   "cell_type": "code",
   "execution_count": 3,
   "id": "28bce56a",
   "metadata": {},
   "outputs": [],
   "source": [
    "class AgentState(TypedDict):\n",
    "    name : str\n",
    "    age : str\n",
    "    final : str"
   ]
  },
  {
   "cell_type": "code",
   "execution_count": 10,
   "id": "70bbe3cd",
   "metadata": {},
   "outputs": [],
   "source": [
    "def first_node(state: AgentState) -> AgentState:\n",
    "    \"\"\"This is the first Node\"\"\"\n",
    "    state['final'] = f\"Hello there, {state['name']}\"\n",
    "    return state\n",
    "\n",
    "def second_node(state: AgentState) -> AgentState:\n",
    "    \"\"\"This is the second Node\"\"\"\n",
    "    state['final'] = state['final'] + f\" you are {state['age']} years old\"\n",
    "    return state"
   ]
  },
  {
   "cell_type": "code",
   "execution_count": 11,
   "id": "ca447250",
   "metadata": {},
   "outputs": [],
   "source": [
    "graph=StateGraph(AgentState)\n",
    "graph.add_node(\"first_node\",first_node)\n",
    "graph.add_node(\"second_node\",second_node)\n",
    "graph.set_entry_point(\"first_node\")\n",
    "graph.set_finish_point(\"second_node\")\n",
    "\n",
    "graph.add_edge(\"first_node\",\"second_node\")#this adds a connection between the two nodes that we want to work between\n",
    "app=graph.compile()\n"
   ]
  },
  {
   "cell_type": "code",
   "execution_count": 12,
   "id": "f5d0129b",
   "metadata": {},
   "outputs": [
    {
     "data": {
      "image/png": "[encoded data removed]",
      "text/plain": [
       "<IPython.core.display.Image object>"
      ]
     },
     "metadata": {},
     "output_type": "display_data"
    }
   ],
   "source": [
    "from IPython.display import Image,display\n",
    "display(Image(app.get_graph().draw_mermaid_png()))"
   ]
  },
  {
   "cell_type": "code",
   "execution_count": 13,
   "id": "0c6aadac",
   "metadata": {},
   "outputs": [
    {
     "name": "stdout",
     "output_type": "stream",
     "text": [
      "{'name': 'rohan', 'age': '23', 'final': 'Hello there, rohan you are 23 years old'}\n",
      "Hello there, rohan you are 23 years old\n"
     ]
    }
   ],
   "source": [
    "result = app.invoke({\"name\":\"rohan\",\"age\":\"23\"})\n",
    "print(result)\n",
    "print(result['final'])"
   ]
  },
  {
   "cell_type": "markdown",
   "id": "b3b7f955",
   "metadata": {},
   "source": [
    "Exercise-3: make 3 nodes , take the name age and skills as a list \n",
    "First node => initialize the name \n",
    "second node => add the age \n",
    "third node => add the skills\n",
    "The final output should be a combined message \n"
   ]
  },
  {
   "cell_type": "code",
   "execution_count": 29,
   "id": "3d9b67c3",
   "metadata": {},
   "outputs": [],
   "source": [
    "class AgentSkillNode(TypedDict):\n",
    "    name : str\n",
    "    age : str\n",
    "    skills : list[str]\n",
    "    result : str\n",
    "\n",
    "def node1 (state:AgentSkillNode) ->AgentSkillNode:\n",
    "    \"\"\"agent1\"\"\"\n",
    "    state['result'] = f\"{state['name']}, welcome to the system! \"\n",
    "    return state\n",
    "    \n",
    "def node2 (state:AgentSkillNode) ->AgentSkillNode:\n",
    "    \"\"\"agent2\"\"\"\n",
    "    state['result'] = state['result']+f\"You are {state['age']} years old! \"\n",
    "    return state\n",
    "\n",
    "def node3 (state:AgentSkillNode) ->AgentSkillNode:\n",
    "    \"\"\"agent3\"\"\"\n",
    "    state['result'] = state['result']+f\"you have skills in : \" + \", \".join(str(x) for x in state[\"skills\"])\n",
    "    return state\n",
    "\n",
    "\n",
    "graph=StateGraph(AgentSkillNode)\n",
    "graph.add_node(\"node1\",node1)\n",
    "graph.add_node(\"node2\",node2)\n",
    "graph.add_node(\"node3\",node3)\n",
    "graph.add_edge(\"node1\",\"node2\")\n",
    "graph.add_edge(\"node2\",\"node3\")\n",
    "graph.set_entry_point(\"node1\")\n",
    "graph.set_finish_point(\"node3\")\n",
    "app=graph.compile()"
   ]
  },
  {
   "cell_type": "code",
   "execution_count": 30,
   "id": "58529a88",
   "metadata": {},
   "outputs": [
    {
     "data": {
      "image/png": "[encoded data removed]",
      "text/plain": [
       "<IPython.core.display.Image object>"
      ]
     },
     "metadata": {},
     "output_type": "display_data"
    }
   ],
   "source": [
    "from IPython.display import Image,display\n",
    "display(Image(app.get_graph().draw_mermaid_png()))"
   ]
  },
  {
   "cell_type": "code",
   "execution_count": 31,
   "id": "35a47e31",
   "metadata": {},
   "outputs": [
    {
     "name": "stdout",
     "output_type": "stream",
     "text": [
      "rohan, welcome to the system! You are 23 years old! you have skills in : Python, Machine Learning, LangGraph\n"
     ]
    }
   ],
   "source": [
    "ans = app.invoke({\"name\":\"rohan\",\"age\":\"23\",\"skills\":[\"Python\",\"Machine Learning\",\"LangGraph\"]})\n",
    "\n",
    "print(ans['result'])"
   ]
  },
  {
   "cell_type": "code",
   "execution_count": null,
   "id": "31b63721",
   "metadata": {},
   "outputs": [],
   "source": []
  },
  {
   "cell_type": "code",
   "execution_count": null,
   "id": "ec4469c8",
   "metadata": {},
   "outputs": [],
   "source": []
  }
 ],
 "metadata": {
  "kernelspec": {
   "display_name": "base",
   "language": "python",
   "name": "python3"
  },
  "language_info": {
   "codemirror_mode": {
    "name": "ipython",
    "version": 3
   },
   "file_extension": ".py",
   "mimetype": "text/x-python",
   "name": "python",
   "nbconvert_exporter": "python",
   "pygments_lexer": "ipython3",
   "version": "3.12.4"
  }
 },
 "nbformat": 4,
 "nbformat_minor": 5
}
