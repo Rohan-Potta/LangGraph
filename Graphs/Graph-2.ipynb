{
 "cells": [
  {
   "cell_type": "code",
   "execution_count": 21,
   "id": "11122129",
   "metadata": {},
   "outputs": [],
   "source": [
    "#Multi Input Graph\n",
    "from typing import TypedDict, List\n",
    "from langgraph.graph import StateGraph"
   ]
  },
  {
   "cell_type": "code",
   "execution_count": 22,
   "id": "e1087f4e",
   "metadata": {},
   "outputs": [],
   "source": [
    "class AgentState(TypedDict):\n",
    "    values : List[int]\n",
    "    name : str\n",
    "    result : str"
   ]
  },
  {
   "cell_type": "code",
   "execution_count": 23,
   "id": "86b06cc6",
   "metadata": {},
   "outputs": [],
   "source": [
    "def process_values(state: AgentState) -> AgentState: #the point is it accepts the state and spits out the updated state\n",
    "    \"\"\"This functions handles multiple different inputs\"\"\"\n",
    "\n",
    "    print(\"Initial State\")\n",
    "    print(state)\n",
    "    state['result'] = f\"Hello there {state['name']} and the sum is = {sum(state['values'])} \"\n",
    "    print()\n",
    "    print(\"The updated state\")\n",
    "    print(state)\n",
    "    return state\n"
   ]
  },
  {
   "cell_type": "code",
   "execution_count": 24,
   "id": "763d26ff",
   "metadata": {},
   "outputs": [],
   "source": [
    "graph=StateGraph(AgentState) \n",
    "graph.add_node(\"processor\",process_values)\n",
    "graph.set_entry_point(\"processor\")\n",
    "graph.set_finish_point(\"processor\")\n",
    "\n",
    "app = graph.compile() \n",
    "#its important to store it in a variable because it doesnt make sense to invoke the graph before compling, and it saves time instead of compling every time\n"
   ]
  },
  {
   "cell_type": "code",
   "execution_count": 25,
   "id": "38e53e20",
   "metadata": {},
   "outputs": [
    {
     "name": "stdout",
     "output_type": "stream",
     "text": [
      "Initial State\n",
      "{'values': [1, 2, 3, 4], 'name': 'rohan'}\n",
      "\n",
      "The updated state\n",
      "{'values': [1, 2, 3, 4], 'name': 'rohan', 'result': 'Hello there rohan and the sum is = 10 '}\n"
     ]
    }
   ],
   "source": [
    "ans=app.invoke({'values':[1,2,3,4],'name':'rohan'})\n"
   ]
  },
  {
   "cell_type": "code",
   "execution_count": 26,
   "id": "ba74f9ec",
   "metadata": {},
   "outputs": [
    {
     "name": "stdout",
     "output_type": "stream",
     "text": [
      "{'values': [1, 2, 3, 4], 'name': 'rohan', 'result': 'Hello there rohan and the sum is = 10 '}\n",
      "Hello there rohan and the sum is = 10 \n"
     ]
    }
   ],
   "source": [
    "print(ans)\n",
    "print(ans['result'])"
   ]
  },
  {
   "cell_type": "markdown",
   "id": "bf635eff",
   "metadata": {},
   "source": [
    "Exercise-2\n",
    "Create a graph where you pass a single list and a name if the operation is + add the elements , if * multiply the elements "
   ]
  },
  {
   "cell_type": "code",
   "execution_count": 36,
   "id": "f5530c3e",
   "metadata": {},
   "outputs": [],
   "source": [
    "class AgentOpState(TypedDict):\n",
    "    values : List[int]\n",
    "    name : str\n",
    "    op : str\n",
    "    message: str\n",
    "\n",
    "def operation_node(state:AgentOpState) -> AgentOpState:\n",
    "    \"\"\"This function will indentify the operation and based on that perform it on the list \"\"\"\n",
    "    if state['op'] == '+':\n",
    "        result = sum(state['values'])\n",
    "    else:\n",
    "        result = 1\n",
    "        for x in state['values']:\n",
    "            result = result*x\n",
    "        \n",
    "    state['message'] = f\"Hello there {state['name']} the operation performed is {state['op']} and the list passed is = {state['values']} and the result on the operation is = {result}\"\n",
    "    return state\n",
    "\n",
    "graph = StateGraph(AgentOpState)\n",
    "graph.add_node(\"operation\",operation_node)\n",
    "graph.set_entry_point(\"operation\")\n",
    "graph.set_finish_point(\"operation\")\n",
    "\n",
    "app=graph.compile()\n",
    "\n",
    "\n"
   ]
  },
  {
   "cell_type": "code",
   "execution_count": 37,
   "id": "8583a2ff",
   "metadata": {},
   "outputs": [
    {
     "name": "stdout",
     "output_type": "stream",
     "text": [
      "{'values': [1, 2, 3, 4], 'name': 'Rohan', 'op': '+', 'message': 'Hello there Rohan the operation performed is + and the list passed is = [1, 2, 3, 4] and the result on the operation is = 10'}\n",
      "Hello there Rohan the operation performed is + and the list passed is = [1, 2, 3, 4] and the result on the operation is = 10\n"
     ]
    }
   ],
   "source": [
    "ans_add=app.invoke({\"values\":[1,2,3,4],\"name\":\"Rohan\",\"op\":\"+\"})\n",
    "\n",
    "\n",
    "print(ans_add)\n",
    "print(ans_add['message'])\n"
   ]
  },
  {
   "cell_type": "code",
   "execution_count": 38,
   "id": "6a5ecaae",
   "metadata": {},
   "outputs": [
    {
     "name": "stdout",
     "output_type": "stream",
     "text": [
      "{'values': [1, 2, 3, 4], 'name': 'Rohan', 'op': '*', 'message': 'Hello there Rohan the operation performed is * and the list passed is = [1, 2, 3, 4] and the result on the operation is = 24'}\n",
      "Hello there Rohan the operation performed is * and the list passed is = [1, 2, 3, 4] and the result on the operation is = 24\n"
     ]
    }
   ],
   "source": [
    "ans_mul=app.invoke({\"values\":[1,2,3,4],\"name\":\"Rohan\",\"op\":\"*\"})\n",
    "print(ans_mul)\n",
    "print(ans_mul['message'])"
   ]
  },
  {
   "cell_type": "code",
   "execution_count": null,
   "id": "21a3273b",
   "metadata": {},
   "outputs": [],
   "source": []
  }
 ],
 "metadata": {
  "kernelspec": {
   "display_name": "base",
   "language": "python",
   "name": "python3"
  },
  "language_info": {
   "codemirror_mode": {
    "name": "ipython",
    "version": 3
   },
   "file_extension": ".py",
   "mimetype": "text/x-python",
   "name": "python",
   "nbconvert_exporter": "python",
   "pygments_lexer": "ipython3",
   "version": "3.12.4"
  }
 },
 "nbformat": 4,
 "nbformat_minor": 5
}
